{
 "cells": [
  {
   "cell_type": "code",
   "execution_count": null,
   "metadata": {
    "collapsed": true
   },
   "outputs": [],
   "source": [
    "from IPython.core.interactiveshell import InteractiveShell\n",
    "InteractiveShell.ast_node_interactivity = \"all\""
   ]
  },
  {
   "cell_type": "markdown",
   "metadata": {},
   "source": [
    "Install Twitter API through !pip install tweepy"
   ]
  },
  {
   "cell_type": "markdown",
   "metadata": {},
   "source": [
    "Importing libraries"
   ]
  },
  {
   "cell_type": "code",
   "execution_count": null,
   "metadata": {
    "collapsed": true
   },
   "outputs": [],
   "source": [
    "import io\n",
    "import re\n",
    "import tweepy\n",
    "import csv\n",
    "from tweepy import OAuthHandler\n",
    "from textblob import TextBlob\n",
    "import nltk\n",
    "nltk.download('stopwords')\n",
    "from nltk.corpus import stopwords"
   ]
  },
  {
   "cell_type": "markdown",
   "metadata": {},
   "source": [
    "Creating a class which contains functions and API Key information and other initializations:"
   ]
  },
  {
   "cell_type": "markdown",
   "metadata": {},
   "source": [
    "#Creating functions for Fetching Tweets,writing them into txt file and reading them for doing Sentiment Analysis"
   ]
  },
  {
   "cell_type": "code",
   "execution_count": 159,
   "metadata": {
    "scrolled": false
   },
   "outputs": [
    {
     "name": "stdout",
     "output_type": "stream",
     "text": [
      "Positive Words:\n",
      "{'lmao', 'Win', 'light', 'win', 'right', 'enjoy', 'ok', 'Pretty', 'impressive', 'LOVE', 'Soft', 'Ok', 'Honestly', 'great', 'social', 'excited', 'new', 'rich', 'wants', 'happy', 'catching'}\n",
      "Negative Words:\n",
      "{'Remote', 'shit', 'Black', 'Pink', 'serious', 'Unbelievable'}\n",
      "Neutral Words :\n",
      "{'helenefischer', 'horas', 'Ya', 'heb', 'rosegold', 'need', 'couple', 'x93', 'rdv', 'una', 'SHOP', 'pour', 'Car', 'wit', 'U', 'world', 'Shell', 'contest', 'nofilter', 'Phone', 'siguen', '11ss', 'entered', 'ca', 'Queen', 'page', 'unlocking', 'Now', 'xb1', 'movie', 'Phonandroid', 'El', '6', 'channels', 'Week', 'pressure', 'downloading', 'After', 'one', 'mi', 'IS', 'plans', 'EasyTechCO', 'iPhon', 'hotel', 'nTransparent', 'FDPS', 'IPHONEX', 'x81plus', 'regalando', 'upgraded', 'back', 'fabricante', 'xe3', 'ganaste', 'J', 'xe4', 'Rituals', 'se', 'Tracking', 'infancia', 'caught', 'xf0', 'iphone8', 'xbb2', 'digo', 'Sor', 'l', 'xba', '7', 'Helene', 'yo', 'Un', 'elite', 'lt', 'xa9cir', 'Lighting', 'x94would', 'rises', 'fa', 'click', 'gt', 'Feb', 'nIphoneX', 'han', 'GiveAway', 'x9e', 'We', 'Slay', 'xaf', 'AcDc', 'x902015', 'xa1', 'ik', 'helped', 'Mam', 'finally', 'x9f', 'Wireless', 'omg', 'x99isola', 'C', 'actualizado', 'ACTUALLY', 'nos', '24', 'MicroUSB', 'facebook', 'Con', 'un', 'An', 'MotoX5', 'une', 'PODEM', 'case', 'vidaquesegue', 'iphoneX', 'unity3d', 'dicono', 'xe2', 'maken', '8', 'ProCam', 'SHOWS', 'almost', 'che', 'causes', 'maledetta', 'Not', 'LXORY', 'dow', 'Just', 'rayajos', 'UFM', 'Use', 'zitten', 'bio', 'people', 'money', 'effetti', 'parrain', 'Ridge', 'komiharu', 'nE', 'functionality', 'piaghe', 'themisioannidis', 'x88', 'Settembre', 'semanas', 'xa9livrer', 'en', 'Vu', 'xa3', 'Por', 'mobile', '5', 'iOS', 'xa9s', 'puts', 'giving', 'poi', 'lot', 'xc3', 'Pebbles', 'x8a', 'xbf', 'iPhone8', 'Charging', 'xb9', 'xbd', 'possibilit', 'AppleWatch', 'Do', 'quedado', '4A', 'instaboy', '50', 'gratuite', 'Who', 'yelling', 'amp', 'Card', 'month', 'life', 'Dropped', 'unos', 'baby', 'SELFIE', 'Steffens', 'Notch', 'xb4', 'set', 'f', 'Hesperia', 'sera', 'ARKit', 'somostodosiguais', 'xa7', 'iphonecase', 'got', 'del', 'festhallefrankfurt', 'WatchUp', 'CAR', 'Qi', 'b', 'xa0', 'x92', 'NAO', 'xb1iPhone', 'etc', 'documentos', 'Giveaway', 'tecnologia', 'xa98', 'NationalLINC', 'xa2', 'dans', 'diferentecomotemqueser', 'conference', 'ha', 'xab', 'uso', 'x97', 'THAT', 'WhatsApp', 'jeu', 'presentar', 'xae2', 'Pad', 'announce', 'es', 'To', 'today', 'xa8', 'recorded', 'dalle', 'Instead', 'segundo', 'A', 'macro', 'xa9', 'WANT', 'Tech', 'produrre', 'xa4', 'xe7', 'frankfurt', 'access', 'xe8', 'les', 'calls', 'cost', 'sientes', 'xa5', 'battery', 'x8f', 'de', 'xa8USB', 'minha', 'Kinect', 'xa9tr', 'llevo', 'co', 'day', 'x9c', 'phonecleaning', 'mijn', 'x9a', 'xad', 'x8c', 'Dm', '17', 'increase', 'YAS', 'prettyinpink', 'USB', 'dollars', 'would', 'FaceID', 'problems', 'di', 'Estamos', 'xb0', 'x9d', '3d', 'xa9YouTuber', 'activations', 'speed', 'x90iPhoneX', 'nToday', 'Been', 'scanning', 'share', 'muestra', 'For', 'Rayito', 'x92iPhone', 'x9b', 'card', 'x85iPhone5', 'moet', 'rentable', 'atentos', 'cuando', 'get', 'xe9', 'studio', 'x94', 'xc2', 'lens', 'bij', 'x89', 'iNerdzParts', 'hai', 'Gift', 'Dual', 'prin', 'x84', 'xbb', 'rumi0309', 'YOU', 'por', 'x8eiPhoneX', '14', 'mine', 'carita', 'per', 'IphoneX', 'sus', 'Sto', 'achieving', 'fai', 'device', 'Her', 'ifixiphonerepair', 'font', 'copie', 'iPhone7', 'parts', 'rituals', 'voor', 'iphones', 'casemate', 'via', 'X', 'iPhoneParts', 'x8b', 'Planned', '31', 'warranty', 'appointment', 'x8f8', 'MelGGA', 'x8dthis', 'gets', 'put', 'Lake', 'hideuse', '10', 'Plus', 'tuesday', 'plus', 'te', 'x8c50', 'Apple', 'huiswerkbegeleiding', 'Os', 'x99RE', 'mil', 'morning', 'applevalley', 'highdeserthd', 'BUT', 'Nivel', 'x87', 'Apenas', 'Carmen', '6S', 'acceptable', 'gedrag', 'chance', 'x86', 'AirPods', 'Money', 'AR', 'linguaccia', 'Ritratto', 'Theme', 'lexnet', 'SEUS', 'xd9', 'iPhone6s', 'tuyo', 'THE', 'I', 'THEY', 'dk', 'x91', 'RT', 'iPhone', 'xb7', 'Like', 'fotografico', 'niPhone6splus', 'prices', 'sin', 'ad', 'xa1s', 'daddy', 'qu', 'year', 'comentando', 'VOLTANDO', 'supports', 'OFF', 'Moment', 'Baby', 'iphone', 'prix', 'xd1', 'xada', 'despu', 'xa9biles', 'encoche', 'E', 'xb01', 'x98', 'et', 'Yours', 'ONE', 'PhoneParts', 'Perch', 'xbe', 'xd0', 'ago', 'Want', 'solo', 'Q4', 'proper', 'si', 'Orlando', 'x9eau', 'sbloccando', 'S', 'Another', 'POLAROID', 'facial', 'man', 'monochrome', 'OPA', 'millions', 'x82iOS11', 'xaa', 'casi', 'Paradise', 'x81', 'LG', 'KICKI', 'bijouterie', 'SpriteKit', 'Lightning', 'How', 'xae', 'aviso', 'xb4S', 'THEIR', 'pero', 'moyen', 'x8fNEW', 'Market', 'away', '4', 'onto', 'NL', 'pantalla', 'x99un', 'iphon', 'con', 'gan', 'xb6', 'head', 'adilanto', 'Apps', 'vidaativa', 'ringtone', 'business', 'SPOILED', 'n', 'cierto', 'COMMENT', 'sweeps', 'Selina', 'xbc', 'r', 'polo', 'Visit', 'x8e', 'AppleStore', 'iPhone6', 'xbbdocomo', 'el', 'years', 'mataste', 'donne', 'x85', 'iPhone8Plus', 'capture', 'Facebook', 'pobreza', 'media', 'Stargazer', 'xa6', 'Of', 'raya', 'vous', 'pulgadas', 'launches', '1500', 'dieci', 'Get', 'highdesert', 'Case', 'apple', 'x99', 'things', 'besloten', 'qui', 'Notre', 'charger', 'queen', 'excuses', 'pantallas', 'rakuafl', 'RETWEET', 'xb3', '1', 'us', 'parler', 'iPhone7Plus', 'germany', 'AS', 'THIS', 'x95', 'comment', 'progressi', 'luce', 'development', 'instamen', 'scenes', '20ans', 'x9cand', 'xd8', 'denken', 'Rusty', 'xbbYmobile', 'iphonex', 'adaptar', 'nuevo', 'Gets', 'que', 'x8d', 'x96', 'xe5', '3', 'FALEI', 'Daddy', 'lo', 'holding', 'ARRIVAL', 'shotoniphone', 'Imagine', 'esta', 'x82', 'x83', 'IPhoneX', 'las', 'hessen', 'sur', 'iMore', 'iOS11', 'xac', 'iPhoneX', 'nClaim', 'semana', 'luxury', 'Face', 'IF', 'Back', 'algo', 'iPhone7Pl', 'shotonmoment', 'You', 'mocap', 'xb2', 'VSCO', 'Led', 'WE', 'BeneMaNonBenissimo', 'xe6', 'twitter', '9', 'braquer', 'nPero', '2', 'looking', 'KIDS', 'Geek', 'x99m', 'noches', 'des', 'Order', 'la', 'ni', 'giveaway', 'In', 'fidelity', 'n3', 'last', 'victorville', 'Also', 'da', 'settle', 'rivera', 'use', 'applewatch', 'selfies', 'xa9n', 'FL', 'nRight', 'x80', 'like', 'dat', 'FOLLOW', 'notre', 'walk', 'xef', 'x99illuminazione', 'leather', 'trouv', 'iPhone6Plus', 'TAKING', 'Jan', 'work', 'nada', 'Watch', 'Some', 'ser', '40', 'abstr', 'bitch', 'x90', 'bolsillo', 'cera', 'Enter', 'xb8', 'workers', 'x82iPhoneX', 'x99hideuse', 'pinklady', 'The', 'Pixel2XL', 'message', 'retweeting', 'Follow', '99', 'Caught', 'body', '300', 'lifetime', 'xb5', 'Fischer'}\n",
      "Stop Words :\n",
      "{'over', 'theirs', 'its', 'to', 'you', 'no', 'of', 'from', 'in', 'it', 'her', 'your', 'just', 'on', 'that', 'by', 'm', 'we', 'or', 'who', 'our', 'for', 'now', 're', 'up', 'this', 'have', 's', 'd', 'with', 'do', 'all', 'had', 'my', 'is', 'not', 'are', 'an', 'a', 'can', 'and', 'the', 'as', 'y', 'at', 'me', 'has', 'these', 'having'}\n",
      "Ratio of positive to negative words is : 3.5\n",
      "Number of stop words: 49\n"
     ]
    }
   ],
   "source": [
    "class TweetSentimentAnalyzer(object):\n",
    "#Enter API Keys\n",
    "    CONSUMER_KEY = 'XXXXXX'\n",
    "    CONSUMER_SECRET = 'XXXXXX'\n",
    "    ACCESS_TOKEN = 'XXXXXX'\n",
    "    ACCESS_TOKEN_SECRET = 'XXXXX'\n",
    "    auth = tweepy.OAuthHandler(CONSUMER_KEY,CONSUMER_SECRET)\n",
    "    auth.set_access_token(ACCESS_TOKEN,ACCESS_TOKEN_SECRET)\n",
    "    twitterClient = tweepy.API(auth)\n",
    "    positive_words = set()\n",
    "    negative_words = set()\n",
    "    neutral_words = set()\n",
    "    stopWordsFromNltk = set(stopwords.words('english'))\n",
    "    stop_words = set()\n",
    "\n",
    "    def get_tweets(self, query, count = 500):\n",
    "        tweets=[]\n",
    "        \"\"\"#fetch the tweets and write them out to a file. Uncomment this when you need to fetch tweets from the api\n",
    "        fetched_tweets = self.twitterClient.search(q = query,count = count)\n",
    "        csvFile = open('C:/Users/shrad/Downloads/Python_Assignments/Tweet_Sentiment_Analysis.txt', 'a')\n",
    "        #Use csv writer\n",
    "        csvWriter = csv.writer(csvFile)\n",
    "        for tweet in fetched_tweets:\n",
    "            tweets.append(tweet.text)\n",
    "            csvWriter.writerow([tweet.text.encode('utf-8')])\n",
    "            #print (tweet.text)\n",
    "            csvFile.flush()\n",
    "        csvFile.close() \n",
    "        return tweets       \"\"\"\n",
    "        # read tweets from the file\n",
    "        fp = open('C:/Users/shrad/Downloads/Python_Assignments/Tweets_Analysis.txt', 'r')\n",
    "        line = fp.readline()\n",
    "        while line:\n",
    "            tweets.append(self.clean_tweet(line))\n",
    "            line = fp.readline()\n",
    "        return tweets\n",
    "    \n",
    " \n",
    "    def clean_tweet(self,tweet):\n",
    "        return ' '.join(re.sub(\"(@[A-Za-z0-9]+)|([^0-9A-Za-z \\t])|(\\w+:\\/\\/\\S+)\", \" \", tweet).split())\n",
    "    \n",
    "    def parseNegativePositiveWordsInTweet(self, tweet):\n",
    "        words = tweet.split()\n",
    "        for word in words:\n",
    "            if word in self.stopWordsFromNltk:\n",
    "                self.stop_words.add(word)\n",
    "            else:\n",
    "                analysis = TextBlob(word)\n",
    "                polarity = analysis.sentiment.polarity;\n",
    "                if polarity < 0.0:\n",
    "                    self.negative_words.add(word)\n",
    "                elif polarity > 0.0:\n",
    "                    self.positive_words.add(word)\n",
    "                else:\n",
    "                    self.neutral_words.add(word)\n",
    "                    \n",
    "\"\"\"Doing Sentiment Analysis for unique words\"\"\"\n",
    "         \n",
    "def main():\n",
    "    analyzer = TweetSentimentAnalyzer()\n",
    "    for i in range(5):\n",
    "        tweets = analyzer.get_tweets(query = 'IphoneX',count = 100)\n",
    "        #print (len(tweets))\n",
    "    for tweet in tweets:\n",
    "        analyzer.parseNegativePositiveWordsInTweet(tweet)\n",
    "    print(\"Positive Words:\")\n",
    "    print(analyzer.positive_words)\n",
    "    print(\"Negative Words:\")\n",
    "    print(analyzer.negative_words)\n",
    "    print(\"Neutral Words :\")\n",
    "    print(analyzer.neutral_words)\n",
    "    print(\"Stop Words :\")\n",
    "    print(analyzer.stop_words)\n",
    "    numPositive = len(analyzer.positive_words)\n",
    "    numNegative = len(analyzer.negative_words)\n",
    "\n",
    "    if (numNegative > 0):\n",
    "        print (\"Ratio of positive to negative words is : \" + str(numPositive / numNegative))\n",
    "    else:\n",
    "        print (\"No negative words. Infinite ratio.\")\n",
    "    print (\"Number of stop words: \" + str(len(analyzer.stop_words)))\n",
    "\n",
    "if __name__ == \"__main__\":\n",
    "\n",
    "    main()"
   ]
  },
  {
   "cell_type": "markdown",
   "metadata": {},
   "source": [
    "1. What is the ratio of positive to negative words on your trending topic?\n",
    "\n",
    "For the sample of 500 tweets taken,ratio of Positive to negative words is 3.5\n",
    "\n",
    "2. What is your interpretation of the ratio?\n",
    "Ratio of 3.5 means that there are more unique positive words for IphoneX than negative words. IphoneX is popular amongst users\n",
    "\n",
    "3. What is the managerial insight that you could offer based on your results?\n",
    "Although IphoneX is very popular amongst the masses as per the Sentiment Analysis ratio.However IphoneX developers may work on certain negative reactions like developing IphoneX in rose gold color(as there is a word 'pink' in the negative wordlists).They should work on lessening the number of negative comments."
   ]
  },
  {
   "cell_type": "markdown",
   "metadata": {},
   "source": [
    "Reference taken : https://www.geeksforgeeks.org/twitter-sentiment-analysis-using-python/"
   ]
  }
 ],
 "metadata": {
  "kernelspec": {
   "display_name": "Python 3",
   "language": "python",
   "name": "python3"
  },
  "language_info": {
   "codemirror_mode": {
    "name": "ipython",
    "version": 3
   },
   "file_extension": ".py",
   "mimetype": "text/x-python",
   "name": "python",
   "nbconvert_exporter": "python",
   "pygments_lexer": "ipython3",
   "version": "3.6.3"
  }
 },
 "nbformat": 4,
 "nbformat_minor": 2
}
