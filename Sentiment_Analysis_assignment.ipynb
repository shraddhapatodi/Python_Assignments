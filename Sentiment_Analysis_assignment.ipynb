{
 "cells": [
  {
   "cell_type": "code",
   "execution_count": null,
   "metadata": {
    "collapsed": true
   },
   "outputs": [],
   "source": [
    "from IPython.core.interactiveshell import InteractiveShell\n",
    "InteractiveShell.ast_node_interactivity = \"all\""
   ]
  },
  {
   "cell_type": "markdown",
   "metadata": {},
   "source": [
    "Install Twitter API through !pip install tweepy"
   ]
  },
  {
   "cell_type": "markdown",
   "metadata": {},
   "source": [
    "Importing libraries"
   ]
  },
  {
   "cell_type": "code",
   "execution_count": null,
   "metadata": {
    "collapsed": true
   },
   "outputs": [],
   "source": [
    "import io\n",
    "import re\n",
    "import tweepy\n",
    "import csv\n",
    "from tweepy import OAuthHandler\n",
    "from textblob import TextBlob\n",
    "import nltk\n",
    "nltk.download('stopwords')\n",
    "from nltk.corpus import stopwords"
   ]
  },
  {
   "cell_type": "markdown",
   "metadata": {},
   "source": [
    "Creating a class which contains functions and API Key information and other initializations:"
   ]
  },
  {
   "cell_type": "markdown",
   "metadata": {},
   "source": [
    "Creating functions for Fetching Tweets,writing them into txt file and reading them for doing Sentiment Analysis"
   ]
  },
  {
   "cell_type": "code",
   "execution_count": null,
   "metadata": {
    "scrolled": false
   },
   "outputs": [],
   "source": [
    "class TweetSentimentAnalyzer(object):\n",
    "#Enter API Keys\n",
    "    CONSUMER_KEY = 'XXXXXX'\n",
    "    CONSUMER_SECRET = 'XXXXXX'\n",
    "    ACCESS_TOKEN = 'XXXXXX'\n",
    "    ACCESS_TOKEN_SECRET = 'XXXXX'\n",
    "    auth = tweepy.OAuthHandler(CONSUMER_KEY,CONSUMER_SECRET)\n",
    "    auth.set_access_token(ACCESS_TOKEN,ACCESS_TOKEN_SECRET)\n",
    "    twitterClient = tweepy.API(auth)\n",
    "    positive_words = set()\n",
    "    negative_words = set()\n",
    "    neutral_words = set()\n",
    "    stopWordsFromNltk = set(stopwords.words('english'))\n",
    "    stop_words = set()\n",
    "\n",
    "    def get_tweets(self, query, count = 500):\n",
    "        tweets=[]\n",
    "        \"\"\"#fetch the tweets and write them out to a file. Uncomment this when you need to fetch tweets from the api\n",
    "        fetched_tweets = self.twitterClient.search(q = query,count = count)\n",
    "        csvFile = open('C:/Users/shrad/Downloads/Python_Assignments/Tweet_Sentiment_Analysis.txt', 'a')\n",
    "        #Use csv writer\n",
    "        csvWriter = csv.writer(csvFile)\n",
    "        for tweet in fetched_tweets:\n",
    "            tweets.append(tweet.text)\n",
    "            csvWriter.writerow([tweet.text.encode('utf-8')])\n",
    "            #print (tweet.text)\n",
    "            csvFile.flush()\n",
    "        csvFile.close() \n",
    "        return tweets       \"\"\"\n",
    "        # read tweets from the file\n",
    "        fp = open('C:/Users/shrad/Downloads/Python_Assignments/Tweets_Analysis.txt', 'r')\n",
    "        line = fp.readline()\n",
    "        while line:\n",
    "            tweets.append(self.clean_tweet(line))\n",
    "            line = fp.readline()\n",
    "        return tweets\n",
    "    \n",
    " \n",
    "    def clean_tweet(self,tweet):\n",
    "        return ' '.join(re.sub(\"(@[A-Za-z0-9]+)|([^0-9A-Za-z \\t])|(\\w+:\\/\\/\\S+)\", \" \", tweet).split())\n",
    "    \n",
    "    def parseNegativePositiveWordsInTweet(self, tweet):\n",
    "        words = tweet.split()\n",
    "        for word in words:\n",
    "            if word in self.stopWordsFromNltk:\n",
    "                self.stop_words.add(word)\n",
    "            else:\n",
    "                analysis = TextBlob(word)\n",
    "                polarity = analysis.sentiment.polarity;\n",
    "                if polarity < 0.0:\n",
    "                    self.negative_words.add(word)\n",
    "                elif polarity > 0.0:\n",
    "                    self.positive_words.add(word)\n",
    "                else:\n",
    "                    self.neutral_words.add(word)\n",
    "                    \n",
    "\"\"\"Doing Sentiment Analysis for unique words\"\"\"\n",
    "         \n",
    "def main():\n",
    "    analyzer = TweetSentimentAnalyzer()\n",
    "    for i in range(5):\n",
    "        tweets = analyzer.get_tweets(query = 'IphoneX',count = 100)\n",
    "        #print (len(tweets))\n",
    "    for tweet in tweets:\n",
    "        analyzer.parseNegativePositiveWordsInTweet(tweet)\n",
    "    print(\"Positive Words:\")\n",
    "    print(analyzer.positive_words)\n",
    "    print(\"Negative Words:\")\n",
    "    print(analyzer.negative_words)\n",
    "    print(\"Neutral Words :\")\n",
    "    print(analyzer.neutral_words)\n",
    "    print(\"Stop Words :\")\n",
    "    print(analyzer.stop_words)\n",
    "    numPositive = len(analyzer.positive_words)\n",
    "    numNegative = len(analyzer.negative_words)\n",
    "\n",
    "    if (numNegative > 0):\n",
    "        print (\"Ratio of positive to negative words is : \" + str(numPositive / numNegative))\n",
    "    else:\n",
    "        print (\"No negative words. Infinite ratio.\")\n",
    "    print (\"Number of stop words: \" + str(len(analyzer.stop_words)))\n",
    "\n",
    "if __name__ == \"__main__\":\n",
    "\n",
    "    main()"
   ]
  },
  {
   "cell_type": "markdown",
   "metadata": {},
   "source": [
    "1. What is the ratio of positive to negative words on your trending topic?\n",
    "For the sample of 500 tweets taken,ratio of Positive to negative words is 3.5\n",
    "\n",
    "2. What is your interpretation of the ratio?\n",
    "Ratio of 3.5 means that there are more unique positive words for IphoneX than negative words. IphoneX is popular amongst users\n",
    "\n",
    "3. What is the managerial insight that you could offer based on your results?\n",
    "Although IphoneX is very popular amongst the masses as per the Sentiment Analysis ratio.However IphoneX developers may work on certain negative reactions like developing IphoneX in rose gold color(as there is a word 'pink' in the negative wordlists).They should work on lessening the number of negative comments."
   ]
  },
  {
   "cell_type": "markdown",
   "metadata": {},
   "source": [
    "Reference taken : https://www.geeksforgeeks.org/twitter-sentiment-analysis-using-python/"
   ]
  }
 ],
 "metadata": {
  "kernelspec": {
   "display_name": "Python 3",
   "language": "python",
   "name": "python3"
  },
  "language_info": {
   "codemirror_mode": {
    "name": "ipython",
    "version": 3
   },
   "file_extension": ".py",
   "mimetype": "text/x-python",
   "name": "python",
   "nbconvert_exporter": "python",
   "pygments_lexer": "ipython3",
   "version": "3.6.3"
  }
 },
 "nbformat": 4,
 "nbformat_minor": 2
}
