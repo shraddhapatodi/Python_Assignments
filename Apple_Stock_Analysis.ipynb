{
 "cells": [
  {
   "cell_type": "markdown",
   "metadata": {},
   "source": [
    "# Assignment 2:"
   ]
  },
  {
   "cell_type": "markdown",
   "metadata": {},
   "source": [
    "To allow multiple outputs."
   ]
  },
  {
   "cell_type": "code",
   "execution_count": 1,
   "metadata": {
    "collapsed": true
   },
   "outputs": [],
   "source": [
    "from IPython.core.interactiveshell import InteractiveShell\n",
    "InteractiveShell.ast_node_interactivity = \"all\""
   ]
  },
  {
   "cell_type": "code",
   "execution_count": 2,
   "metadata": {
    "scrolled": false
   },
   "outputs": [
    {
     "name": "stdout",
     "output_type": "stream",
     "text": [
      "Requirement already satisfied: pandas-datareader in c:\\users\\shrad\\anaconda3\\lib\\site-packages\n",
      "Requirement already satisfied: requests-file in c:\\users\\shrad\\anaconda3\\lib\\site-packages (from pandas-datareader)\n",
      "Requirement already satisfied: requests-ftp in c:\\users\\shrad\\anaconda3\\lib\\site-packages (from pandas-datareader)\n",
      "Requirement already satisfied: requests>=2.3.0 in c:\\users\\shrad\\anaconda3\\lib\\site-packages (from pandas-datareader)\n",
      "Requirement already satisfied: pandas>=0.17.0 in c:\\users\\shrad\\anaconda3\\lib\\site-packages (from pandas-datareader)\n",
      "Requirement already satisfied: six in c:\\users\\shrad\\anaconda3\\lib\\site-packages (from requests-file->pandas-datareader)\n",
      "Requirement already satisfied: chardet<3.1.0,>=3.0.2 in c:\\users\\shrad\\anaconda3\\lib\\site-packages (from requests>=2.3.0->pandas-datareader)\n",
      "Requirement already satisfied: idna<2.7,>=2.5 in c:\\users\\shrad\\anaconda3\\lib\\site-packages (from requests>=2.3.0->pandas-datareader)\n",
      "Requirement already satisfied: urllib3<1.23,>=1.21.1 in c:\\users\\shrad\\anaconda3\\lib\\site-packages (from requests>=2.3.0->pandas-datareader)\n",
      "Requirement already satisfied: certifi>=2017.4.17 in c:\\users\\shrad\\anaconda3\\lib\\site-packages (from requests>=2.3.0->pandas-datareader)\n",
      "Requirement already satisfied: python-dateutil>=2 in c:\\users\\shrad\\anaconda3\\lib\\site-packages (from pandas>=0.17.0->pandas-datareader)\n",
      "Requirement already satisfied: pytz>=2011k in c:\\users\\shrad\\anaconda3\\lib\\site-packages (from pandas>=0.17.0->pandas-datareader)\n",
      "Requirement already satisfied: numpy>=1.7.0 in c:\\users\\shrad\\anaconda3\\lib\\site-packages (from pandas>=0.17.0->pandas-datareader)\n"
     ]
    }
   ],
   "source": [
    "!pip install pandas-datareader"
   ]
  },
  {
   "cell_type": "code",
   "execution_count": 16,
   "metadata": {},
   "outputs": [],
   "source": [
    "import pandas_datareader as pdr"
   ]
  },
  {
   "cell_type": "code",
   "execution_count": 17,
   "metadata": {
    "collapsed": true
   },
   "outputs": [],
   "source": [
    "import pandas as pd"
   ]
  },
  {
   "cell_type": "code",
   "execution_count": 18,
   "metadata": {
    "collapsed": true
   },
   "outputs": [],
   "source": [
    "import datetime"
   ]
  },
  {
   "cell_type": "markdown",
   "metadata": {},
   "source": [
    "# Task 1:"
   ]
  },
  {
   "cell_type": "markdown",
   "metadata": {},
   "source": [
    "Download the Apple stock data for the timeframe of 1982 to today."
   ]
  },
  {
   "cell_type": "markdown",
   "metadata": {},
   "source": [
    "Creating a function to download the Apple stock data froom yahoo finance for the timeframe of 1982 to today.In the function , we take 3 parameters(ticker,start date and end date)"
   ]
  },
  {
   "cell_type": "code",
   "execution_count": 388,
   "metadata": {},
   "outputs": [
    {
     "name": "stdout",
     "output_type": "stream",
     "text": [
      "                  Open        High         Low       Close   Adj Close  \\\n",
      "Date                                                                     \n",
      "1982-01-04    0.395089    0.395089    0.392857    0.392857    0.321458   \n",
      "1982-01-05    0.377232    0.377232    0.372768    0.372768    0.305020   \n",
      "1982-01-06    0.370536    0.370536    0.368304    0.368304    0.301367   \n",
      "1982-01-07    0.343750    0.343750    0.339286    0.339286    0.277623   \n",
      "1982-01-08    0.354911    0.357143    0.354911    0.354911    0.290408   \n",
      "1982-01-11    0.334821    0.334821    0.332589    0.332589    0.272143   \n",
      "1982-01-12    0.323661    0.323661    0.321429    0.321429    0.263011   \n",
      "1982-01-13    0.321429    0.321429    0.319196    0.319196    0.261185   \n",
      "1982-01-14    0.334821    0.337054    0.334821    0.334821    0.273970   \n",
      "1982-01-15    0.357143    0.361607    0.357143    0.357143    0.292234   \n",
      "1982-01-18    0.363839    0.368304    0.363839    0.363839    0.297714   \n",
      "1982-01-19    0.359375    0.359375    0.354911    0.354911    0.290408   \n",
      "1982-01-20    0.361607    0.363839    0.361607    0.361607    0.295887   \n",
      "1982-01-21    0.368304    0.370536    0.368304    0.368304    0.301367   \n",
      "1982-01-22    0.370536    0.372768    0.370536    0.370536    0.303193   \n",
      "1982-01-25    0.361607    0.361607    0.359375    0.359375    0.294061   \n",
      "1982-01-26    0.350446    0.350446    0.345982    0.345982    0.283102   \n",
      "1982-01-27    0.348214    0.352679    0.348214    0.348214    0.284929   \n",
      "1982-01-28    0.359375    0.361607    0.359375    0.359375    0.294061   \n",
      "1982-01-29    0.363839    0.366071    0.363839    0.363839    0.297714   \n",
      "1982-02-01    0.363839    0.363839    0.359375    0.359375    0.294061   \n",
      "1982-02-02    0.361607    0.366071    0.361607    0.361607    0.295887   \n",
      "1982-02-03    0.361607    0.363839    0.361607    0.361607    0.295887   \n",
      "1982-02-04    0.354911    0.354911    0.352679    0.352679    0.288581   \n",
      "1982-02-05    0.352679    0.354911    0.352679    0.352679    0.288581   \n",
      "1982-02-08    0.332589    0.332589    0.330357    0.330357    0.270317   \n",
      "1982-02-09    0.330357    0.332589    0.330357    0.330357    0.270317   \n",
      "1982-02-10    0.334821    0.337054    0.334821    0.334821    0.273970   \n",
      "1982-02-11    0.332589    0.332589    0.330357    0.330357    0.270317   \n",
      "1982-02-12    0.334821    0.337054    0.334821    0.334821    0.273970   \n",
      "...                ...         ...         ...         ...         ...   \n",
      "2017-12-08  170.490005  171.000000  168.820007  169.369995  169.369995   \n",
      "2017-12-11  169.199997  172.889999  168.789993  172.669998  172.669998   \n",
      "2017-12-12  172.149994  172.389999  171.460007  171.699997  171.699997   \n",
      "2017-12-13  172.500000  173.539993  172.000000  172.270004  172.270004   \n",
      "2017-12-14  172.399994  173.130005  171.649994  172.220001  172.220001   \n",
      "2017-12-15  173.630005  174.169998  172.460007  173.970001  173.970001   \n",
      "2017-12-18  174.880005  177.199997  174.860001  176.419998  176.419998   \n",
      "2017-12-19  175.029999  175.389999  174.089996  174.539993  174.539993   \n",
      "2017-12-20  174.869995  175.419998  173.250000  174.350006  174.350006   \n",
      "2017-12-21  174.169998  176.020004  174.100006  175.009995  175.009995   \n",
      "2017-12-22  174.679993  175.419998  174.500000  175.009995  175.009995   \n",
      "2017-12-26  170.800003  171.470001  169.679993  170.570007  170.570007   \n",
      "2017-12-27  170.100006  170.779999  169.710007  170.600006  170.600006   \n",
      "2017-12-28  171.000000  171.850006  170.479996  171.080002  171.080002   \n",
      "2017-12-29  170.520004  170.589996  169.220001  169.229996  169.229996   \n",
      "2018-01-02  170.160004  172.300003  169.259995  172.259995  172.259995   \n",
      "2018-01-03  172.529999  174.550003  171.960007  172.229996  172.229996   \n",
      "2018-01-04  172.539993  173.470001  172.080002  173.029999  173.029999   \n",
      "2018-01-05  173.440002  175.369995  173.050003  175.000000  175.000000   \n",
      "2018-01-08  174.350006  175.610001  173.929993  174.350006  174.350006   \n",
      "2018-01-09  174.550003  175.059998  173.410004  174.330002  174.330002   \n",
      "2018-01-10  173.160004  174.300003  173.000000  174.289993  174.289993   \n",
      "2018-01-11  174.589996  175.490005  174.490005  175.279999  175.279999   \n",
      "2018-01-12  176.179993  177.360001  175.649994  177.089996  177.089996   \n",
      "2018-01-16  177.899994  179.389999  176.139999  176.190002  176.190002   \n",
      "2018-01-17  176.149994  179.250000  175.070007  179.100006  179.100006   \n",
      "2018-01-18  179.369995  180.100006  178.250000  179.259995  179.259995   \n",
      "2018-01-19  178.610001  179.580002  177.410004  178.460007  178.460007   \n",
      "2018-01-22  177.300003  177.779999  176.600006  177.000000  177.000000   \n",
      "2018-01-23  177.300003  179.440002  176.820007  177.039993  177.039993   \n",
      "\n",
      "              Volume  \n",
      "Date                  \n",
      "1982-01-04  17813600  \n",
      "1982-01-05   8960000  \n",
      "1982-01-06  16520000  \n",
      "1982-01-07  17511200  \n",
      "1982-01-08  14151200  \n",
      "1982-01-11   8332800  \n",
      "1982-01-12  14980000  \n",
      "1982-01-13  10438400  \n",
      "1982-01-14   6428800  \n",
      "1982-01-15  11676000  \n",
      "1982-01-18   7000000  \n",
      "1982-01-19  13876800  \n",
      "1982-01-20   6456800  \n",
      "1982-01-21   8332800  \n",
      "1982-01-22   6064800  \n",
      "1982-01-25  11177600  \n",
      "1982-01-26   5303200  \n",
      "1982-01-27   7840000  \n",
      "1982-01-28   9900800  \n",
      "1982-01-29  13288800  \n",
      "1982-02-01   9632000  \n",
      "1982-02-02  13568800  \n",
      "1982-02-03   7868000  \n",
      "1982-02-04   5510400  \n",
      "1982-02-05  10074400  \n",
      "1982-02-08   7924000  \n",
      "1982-02-09  14476000  \n",
      "1982-02-10   9699200  \n",
      "1982-02-11   6132000  \n",
      "1982-02-12   4911200  \n",
      "...              ...  \n",
      "2017-12-08  23355200  \n",
      "2017-12-11  35273800  \n",
      "2017-12-12  19409200  \n",
      "2017-12-13  23818400  \n",
      "2017-12-14  20476500  \n",
      "2017-12-15  40169300  \n",
      "2017-12-18  29421100  \n",
      "2017-12-19  27436400  \n",
      "2017-12-20  23475600  \n",
      "2017-12-21  20949900  \n",
      "2017-12-22  16349400  \n",
      "2017-12-26  33185500  \n",
      "2017-12-27  21498200  \n",
      "2017-12-28  16480200  \n",
      "2017-12-29  25999900  \n",
      "2018-01-02  25555900  \n",
      "2018-01-03  29517900  \n",
      "2018-01-04  22434600  \n",
      "2018-01-05  23660000  \n",
      "2018-01-08  20567800  \n",
      "2018-01-09  21584000  \n",
      "2018-01-10  23959900  \n",
      "2018-01-11  18667700  \n",
      "2018-01-12  25418100  \n",
      "2018-01-16  29565900  \n",
      "2018-01-17  34386800  \n",
      "2018-01-18  31193400  \n",
      "2018-01-19  32425100  \n",
      "2018-01-22  26599800  \n",
      "2018-01-23  29331586  \n",
      "\n",
      "[9093 rows x 6 columns]\n"
     ]
    }
   ],
   "source": [
    "start_date = datetime.datetime(1982, 1, 1)\n",
    "end_date = datetime.datetime.today()\n",
    "ticker = \"AAPL\"\n",
    "def get_stock_data(ticker,start,end):\n",
    "    df = web.get_data_yahoo('AAPL',start_date,end_date)\n",
    "    return df\n",
    "stock_data = get_stock_data('AAPL',start_date,end_date)\n",
    "print(stock_data)"
   ]
  },
  {
   "cell_type": "markdown",
   "metadata": {},
   "source": [
    "# Task 2:"
   ]
  },
  {
   "cell_type": "markdown",
   "metadata": {
    "collapsed": true
   },
   "source": [
    "Using the %magic command to activate inline matplotlib graphs:"
   ]
  },
  {
   "cell_type": "code",
   "execution_count": 37,
   "metadata": {
    "collapsed": true
   },
   "outputs": [],
   "source": [
    "%matplotlib inline"
   ]
  },
  {
   "cell_type": "markdown",
   "metadata": {},
   "source": [
    "For plotting close series , first we find the series from the dataframe stock_data"
   ]
  },
  {
   "cell_type": "code",
   "execution_count": 40,
   "metadata": {},
   "outputs": [],
   "source": [
    "close = stock_data['Close']"
   ]
  },
  {
   "cell_type": "markdown",
   "metadata": {},
   "source": [
    "Showing only a few yearly closing prices of Apple below:"
   ]
  },
  {
   "cell_type": "code",
   "execution_count": 394,
   "metadata": {
    "scrolled": true
   },
   "outputs": [
    {
     "data": {
      "text/plain": [
       "Date\n",
       "1982-01-01       86.484368\n",
       "1983-01-01      169.281248\n",
       "1984-01-01      121.087050\n",
       "1985-01-01       90.955355\n",
       "1986-01-01      146.651775\n",
       "1987-01-01      351.924107\n",
       "1988-01-01      375.334820\n",
       "1989-01-01      374.928569\n",
       "1990-01-01      339.397324\n",
       "1991-01-01      474.325889\n",
       "1992-01-01      497.138388\n",
       "1993-01-01      370.705363\n",
       "1994-01-01      306.724890\n",
       "1995-01-01      364.861597\n",
       "1996-01-01      226.055240\n",
       "1997-01-01      162.342624\n",
       "1998-01-01      275.083699\n",
       "1999-01-01      519.931911\n",
       "2000-01-01      822.813587\n",
       "2001-01-01      358.172856\n",
       "2002-01-01      344.509996\n",
       "2003-01-01      333.805719\n",
       "2004-01-01      639.484998\n",
       "2005-01-01     1680.337140\n",
       "2006-01-01     2539.067148\n",
       "2007-01-01     4599.535716\n",
       "2008-01-01     5131.527142\n",
       "2009-01-01     5285.308577\n",
       "2010-01-01     9354.328558\n",
       "2011-01-01    13104.155712\n",
       "2012-01-01    20573.204266\n",
       "2013-01-01    17014.855688\n",
       "2014-01-01    23250.692890\n",
       "2015-01-01    30250.079951\n",
       "2016-01-01    26360.209983\n",
       "2017-01-01    37788.319947\n",
       "2018-01-01     2280.869996\n",
       "Freq: AS-JAN, Name: Close, dtype: float64"
      ]
     },
     "execution_count": 394,
     "metadata": {},
     "output_type": "execute_result"
    }
   ],
   "source": [
    "close.resample('AS').mean()"
   ]
  },
  {
   "cell_type": "markdown",
   "metadata": {},
   "source": [
    "Now,plotting the entire close series as below:"
   ]
  },
  {
   "cell_type": "code",
   "execution_count": 15,
   "metadata": {},
   "outputs": [
    {
     "data": {
      "text/plain": [
       "<matplotlib.axes._subplots.AxesSubplot at 0x182f9b53358>"
      ]
     },
     "execution_count": 15,
     "metadata": {},
     "output_type": "execute_result"
    },
    {
     "data": {
      "image/png": "[encoded data removed]",
      "text/plain": [
       "<matplotlib.figure.Figure at 0x182f9aefb70>"
      ]
     },
     "metadata": {},
     "output_type": "display_data"
    }
   ],
   "source": [
    "close.plot()"
   ]
  },
  {
   "cell_type": "markdown",
   "metadata": {},
   "source": [
    "# Task 3:"
   ]
  },
  {
   "cell_type": "markdown",
   "metadata": {},
   "source": [
    "Overview of Close series : getting the mean , count etc. for the series 'Close'"
   ]
  },
  {
   "cell_type": "code",
   "execution_count": 44,
   "metadata": {
    "scrolled": true
   },
   "outputs": [
    {
     "data": {
      "text/plain": [
       "count    9091.000000\n",
       "mean       22.765867\n",
       "std        39.697882\n",
       "min         0.196429\n",
       "25%         1.092143\n",
       "50%         1.669643\n",
       "75%        23.522858\n",
       "max       179.259995\n",
       "Name: Close, dtype: float64"
      ]
     },
     "execution_count": 44,
     "metadata": {},
     "output_type": "execute_result"
    }
   ],
   "source": [
    "close.describe()"
   ]
  },
  {
   "cell_type": "markdown",
   "metadata": {},
   "source": [
    "# Task 4:"
   ]
  },
  {
   "cell_type": "markdown",
   "metadata": {},
   "source": [
    "Obtaining maximum closing price:"
   ]
  },
  {
   "cell_type": "markdown",
   "metadata": {},
   "source": [
    "Approach 1: Using max() "
   ]
  },
  {
   "cell_type": "code",
   "execution_count": 53,
   "metadata": {},
   "outputs": [
    {
     "name": "stdout",
     "output_type": "stream",
     "text": [
      "Maximum closing price through approach1 is 179.259995\n"
     ]
    }
   ],
   "source": [
    "c_max= close.max()\n",
    "print(\"Maximum closing price through approach1 is %s\" %(c_max))"
   ]
  },
  {
   "cell_type": "markdown",
   "metadata": {},
   "source": [
    "Approach 2: Using nlargest(1) -->This will return the maximum number.doing n_largest will give a pair of date and value.To fetch the value,do get_value(index)."
   ]
  },
  {
   "cell_type": "code",
   "execution_count": 358,
   "metadata": {},
   "outputs": [],
   "source": [
    "c_largest = close.nlargest(1).get_value(0)\n",
    "#print(c_largest)\n",
    "#c_largest.get_value(0)"
   ]
  },
  {
   "cell_type": "code",
   "execution_count": 360,
   "metadata": {},
   "outputs": [
    {
     "name": "stdout",
     "output_type": "stream",
     "text": [
      "Maximum closing price through approach2 is 179.259995\n"
     ]
    }
   ],
   "source": [
    "print(\"Maximum closing price through approach2 is %s\" %c_largest)"
   ]
  },
  {
   "cell_type": "markdown",
   "metadata": {},
   "source": [
    "Approach 3 : Using a loop to find the maximum price.This approach will compare each value in the series and find the max price"
   ]
  },
  {
   "cell_type": "code",
   "execution_count": 68,
   "metadata": {},
   "outputs": [
    {
     "name": "stdout",
     "output_type": "stream",
     "text": [
      "Maximum closing price through approach3 is 179.259995\n"
     ]
    }
   ],
   "source": [
    "maximum = 0\n",
    "for value in close:\n",
    "    if value>maximum:\n",
    "        maximum = value\n",
    "\n",
    "print(\"Maximum closing price through approach3 is %s\" %maximum)"
   ]
  },
  {
   "cell_type": "markdown",
   "metadata": {},
   "source": [
    "Difference between the 3 approaches described above : Approach 1 makes use of a built-in function max() which gives the maximum value directly.nlargest() in approach 2 gives the series of largest n elements in sorted order.So, if 1 is given as the parameters to nlargest,it will return the series with maximum value and from that we can fetch the value.In Approach 3,a loop is being used which compares each and every value and returns the highest value."
   ]
  },
  {
   "cell_type": "markdown",
   "metadata": {},
   "source": [
    "Approach 4 (first sort the values in descending order and then get the value from the series with index 0)"
   ]
  },
  {
   "cell_type": "markdown",
   "metadata": {},
   "source": [
    "#close[len(close.sort_values())-1]\n",
    "(close.sort_values(ascending = False)).get_value(0)"
   ]
  },
  {
   "cell_type": "markdown",
   "metadata": {},
   "source": [
    "# Task 5:"
   ]
  },
  {
   "cell_type": "markdown",
   "metadata": {},
   "source": [
    "Find the five timeframes with the highest stock price surge in five days (in % compared to the closing cost of the previous trading day). Do you notice something? Can you explain what happend during the timeframes?"
   ]
  },
  {
   "cell_type": "markdown",
   "metadata": {},
   "source": [
    "First calculate the percentage change in the stock prices for a period of 5 days: ((5th day price - 1st day price)*100) using pct_change which computes the percent change over a given number of period."
   ]
  },
  {
   "cell_type": "code",
   "execution_count": 263,
   "metadata": {},
   "outputs": [],
   "source": [
    "tf=close.pct_change(4)*100\n",
    "#print (tf)"
   ]
  },
  {
   "cell_type": "markdown",
   "metadata": {},
   "source": [
    "Next, take the top 5 surges by nlargest()"
   ]
  },
  {
   "cell_type": "code",
   "execution_count": 60,
   "metadata": {
    "scrolled": true
   },
   "outputs": [
    {
     "name": "stdout",
     "output_type": "stream",
     "text": [
      "Date\n",
      "1997-08-07    52.117274\n",
      "1997-08-06    50.357120\n",
      "1998-01-06    43.601879\n",
      "1987-10-30    37.946400\n",
      "1997-08-08    35.759481\n",
      "Name: Close, dtype: float64\n"
     ]
    }
   ],
   "source": [
    "top_surge = (tf.nlargest())\n",
    "print(top_surge)"
   ]
  },
  {
   "cell_type": "markdown",
   "metadata": {},
   "source": [
    "During August 1997, Microsoft saved Apple from bankcrupcy.Thus there was a surge in the stock prices\n",
    "In 1987, Apple released MAcintosh which was a hit.Thus , there was a surge in stock prices"
   ]
  },
  {
   "cell_type": "markdown",
   "metadata": {},
   "source": [
    "# Task 6"
   ]
  },
  {
   "cell_type": "markdown",
   "metadata": {},
   "source": [
    "Resampling:"
   ]
  },
  {
   "cell_type": "markdown",
   "metadata": {},
   "source": [
    "Resampling the data in close series to represent business quarters with quarter ending in September and starting in October.Using Business Quarter Start as frequency for resample function of Pandas and considering max price of the stock within a quarter as the representative value for that quarter. Naming the resampled series as quarter_start"
   ]
  },
  {
   "cell_type": "code",
   "execution_count": 243,
   "metadata": {
    "scrolled": true
   },
   "outputs": [
    {
     "name": "stdout",
     "output_type": "stream",
     "text": [
      "Date\n",
      "1982-01-01      0.327765\n",
      "1982-04-01      0.263747\n",
      "1982-07-01      0.270752\n",
      "1982-10-01      0.503418\n",
      "1983-01-03      0.724383\n",
      "1983-04-01      0.932504\n",
      "1983-07-01      0.634173\n",
      "1983-10-03      0.385877\n",
      "1984-01-02      0.469530\n",
      "1984-04-02      0.513676\n",
      "1984-07-02      0.480017\n",
      "1984-10-01      0.451625\n",
      "1985-01-01      0.476670\n",
      "1985-04-01      0.343112\n",
      "1985-07-01      0.286033\n",
      "1985-10-01      0.340088\n",
      "1986-01-01      0.438817\n",
      "1986-04-01      0.593471\n",
      "1986-07-01      0.613665\n",
      "1986-10-01      0.666050\n",
      "1987-01-01      1.044787\n",
      "1987-04-01      1.370961\n",
      "1987-07-01      1.704311\n",
      "1987-10-01      1.432826\n",
      "1988-01-01      1.515519\n",
      "1988-04-01      1.494898\n",
      "1988-07-01      1.525739\n",
      "1988-10-03      1.397321\n",
      "1989-01-02      1.350158\n",
      "1989-04-03      1.530692\n",
      "                 ...    \n",
      "2010-10-01     44.499241\n",
      "2011-01-03     49.383318\n",
      "2011-04-01     48.230340\n",
      "2011-07-01     54.358616\n",
      "2011-10-03     55.951225\n",
      "2012-01-02     71.954263\n",
      "2012-04-02     83.012879\n",
      "2012-07-02     91.506213\n",
      "2012-10-01     82.537696\n",
      "2013-01-01     66.596333\n",
      "2013-04-01     61.534710\n",
      "2013-07-01     66.320781\n",
      "2013-10-01     75.567567\n",
      "2014-01-01     76.086370\n",
      "2014-04-01     85.117529\n",
      "2014-07-01     98.163437\n",
      "2014-10-01    108.821250\n",
      "2015-01-01    120.777049\n",
      "2015-04-01    127.938095\n",
      "2015-07-01    117.303438\n",
      "2015-10-01    114.299375\n",
      "2016-01-01     99.655082\n",
      "2016-04-01     99.401250\n",
      "2016-07-01    105.866094\n",
      "2016-10-03    113.399048\n",
      "2017-01-02    131.712580\n",
      "2017-04-03    147.875396\n",
      "2017-07-03    155.169048\n",
      "2017-10-02    167.148254\n",
      "2018-01-01    175.451538\n",
      "Freq: BQS-OCT, Name: Close, Length: 145, dtype: float64\n"
     ]
    }
   ],
   "source": [
    "quarter_start = close.resample('BQS-OCT').mean()\n",
    "#print(quarter_start)"
   ]
  },
  {
   "cell_type": "markdown",
   "metadata": {},
   "source": [
    "# Task 7: "
   ]
  },
  {
   "cell_type": "markdown",
   "metadata": {},
   "source": [
    "Considering a rolling window of 4 quarters, compute the percentage change in stock price.\n",
    "Formula : price_diff = stock price in Q4- stock price in Q1.This will give the surge and then we can find surge percentage."
   ]
  },
  {
   "cell_type": "code",
   "execution_count": 503,
   "metadata": {
    "scrolled": true
   },
   "outputs": [],
   "source": [
    "price_diff = quarter_start.pct_change(4)\n",
    "surge_pct = price_diff*100"
   ]
  },
  {
   "cell_type": "markdown",
   "metadata": {},
   "source": [
    "Then considering only those records in series where the surge percentage is greater than 100% by masking the data like below:"
   ]
  },
  {
   "cell_type": "code",
   "execution_count": 504,
   "metadata": {},
   "outputs": [
    {
     "data": {
      "text/plain": [
       "Date\n",
       "1983-01-03    121.006981\n",
       "1983-04-01    253.559939\n",
       "1983-07-01    134.226508\n",
       "1986-07-01    114.543289\n",
       "1987-01-01    138.091579\n",
       "1987-04-01    131.007240\n",
       "1987-07-01    177.726647\n",
       "1987-10-01    115.122795\n",
       "1998-10-01    103.206104\n",
       "1999-10-01    147.425550\n",
       "2000-01-03    205.119317\n",
       "2000-04-03    148.083037\n",
       "2004-10-01    155.106960\n",
       "2005-01-03    228.608987\n",
       "2005-04-01    164.219512\n",
       "2005-07-01    175.269296\n",
       "2005-10-03    128.483828\n",
       "2007-07-02    104.830662\n",
       "2007-10-01    115.600316\n",
       "2009-10-01    107.798819\n",
       "2010-01-01    125.334878\n",
       "Name: Close, dtype: float64"
      ]
     },
     "execution_count": 504,
     "metadata": {},
     "output_type": "execute_result"
    }
   ],
   "source": [
    "surge_pct[(surge_pct>100)]"
   ]
  },
  {
   "cell_type": "markdown",
   "metadata": {},
   "source": [
    "Visulaizing the Surge Percentage data :"
   ]
  },
  {
   "cell_type": "code",
   "execution_count": 505,
   "metadata": {},
   "outputs": [
    {
     "data": {
      "text/plain": [
       "<matplotlib.axes._subplots.AxesSubplot at 0x1b3db1bc4a8>"
      ]
     },
     "execution_count": 505,
     "metadata": {},
     "output_type": "execute_result"
    },
    {
     "data": {
      "image/png": "[encoded data removed]",
      "text/plain": [
       "<matplotlib.figure.Figure at 0x1b3db20f978>"
      ]
     },
     "metadata": {},
     "output_type": "display_data"
    }
   ],
   "source": [
    "(surge_pct[(surge_pct>100)]).plot()"
   ]
  },
  {
   "cell_type": "markdown",
   "metadata": {},
   "source": [
    "From the data and the graph , we can see there is one series of 4 quarters(2004-2005) with an overall surge greater than 100%."
   ]
  }
 ],
 "metadata": {
  "kernelspec": {
   "display_name": "Python 3",
   "language": "python",
   "name": "python3"
  },
  "language_info": {
   "codemirror_mode": {
    "name": "ipython",
    "version": 3
   },
   "file_extension": ".py",
   "mimetype": "text/x-python",
   "name": "python",
   "nbconvert_exporter": "python",
   "pygments_lexer": "ipython3",
   "version": "3.6.3"
  }
 },
 "nbformat": 4,
 "nbformat_minor": 2
}
