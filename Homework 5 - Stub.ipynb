{
 "cells": [
  {
   "cell_type": "markdown",
   "metadata": {
    "ExecuteTime": {
     "end_time": "2018-01-23T04:31:51.255588Z",
     "start_time": "2018-01-23T04:31:51.252836Z"
    }
   },
   "source": [
    "# Homework 5 - Gender Differences in University Enrollment"
   ]
  },
  {
   "cell_type": "markdown",
   "metadata": {},
   "source": [
    "The objective of this homework is to practice visualizing data. To successfully complete this homework, you may use any resources available to you. \n",
    "\n",
    "Get the `universities.csv` data. This is data from the [National Center for Education Statistics](https://nces.ed.gov/ipeds/datacenter/DataFiles.aspx). Develop **three** plots:\n",
    "1. A boxplot of the average number of total enrollment for the states in the U.S. West\n",
    "    * The States in the U.S. West are\n",
    "        * Alaska\n",
    "        * Arizona\n",
    "        * California\n",
    "        * Colorado\n",
    "        * Hawaii\n",
    "        * Idaho\n",
    "        * Montana\n",
    "        * Nevada\n",
    "        * New Mexico\n",
    "        * Oregon\n",
    "        * Utah\n",
    "        * Washington\n",
    "        * Wyoming (see prepared list `uswest`)\n",
    "    * Order the plot based on the number of institutions in the state\n",
    "2. A boxplot of the average number of enrollment per gender category (hue) and state in the U.S. West\n",
    "    * Please notice that enrollment numbers for men and women are in two separate columns.\n",
    "    * Hue requires one column, which means you have to 'melt' the dataset ([Link](https://pandas.pydata.org/pandas-docs/stable/generated/pandas.melt.html)).\n",
    "    * The results should be a dataframe with two rows (one for men, one for women) for each university\n",
    "3. A ordered barplot of the ratio of admissions for men and women for universities in the Bay Area\n",
    "    * We assume that the Bay Area is characterized with zip codes that start with `950` and `94`\n",
    "    * Focus on institutions with more than 1,000 enrollments.\n",
    "    * Develop the ratio of admissions for women and for men. Standardize this ratio on the mean. \n",
    "4. Interpret you plots in terms of gender differences. \n",
    "\n",
    "Hints:\n",
    "* Make sure your plots are nicely formatted (including axes label).\n",
    "* Explain what you are doing.\n",
    "* Use references."
   ]
  },
  {
   "cell_type": "code",
   "execution_count": 1,
   "metadata": {
    "ExecuteTime": {
     "end_time": "2018-02-13T17:45:19.822310Z",
     "start_time": "2018-02-13T17:45:19.816703Z"
    },
    "collapsed": true
   },
   "outputs": [],
   "source": [
    "from IPython.core.interactiveshell import InteractiveShell\n",
    "InteractiveShell.ast_node_interactivity = \"all\""
   ]
  },
  {
   "cell_type": "code",
   "execution_count": 2,
   "metadata": {
    "ExecuteTime": {
     "end_time": "2018-02-13T17:45:20.792374Z",
     "start_time": "2018-02-13T17:45:20.557515Z"
    },
    "collapsed": true
   },
   "outputs": [],
   "source": [
    "import numpy as np\n",
    "import pandas as pd"
   ]
  },
  {
   "cell_type": "code",
   "execution_count": 7,
   "metadata": {
    "ExecuteTime": {
     "end_time": "2018-02-13T17:45:23.621448Z",
     "start_time": "2018-02-13T17:45:23.424111Z"
    }
   },
   "outputs": [],
   "source": [
    "c = students = pd.read_csv('https://raw.githubusercontent.com/mschermann/msis2802winter2018homework/master/\\\n",
    "universities.csv')"
   ]
  },
  {
   "cell_type": "code",
   "execution_count": 4,
   "metadata": {
    "ExecuteTime": {
     "end_time": "2018-02-13T17:45:25.590732Z",
     "start_time": "2018-02-13T17:45:25.149151Z"
    },
    "collapsed": true
   },
   "outputs": [],
   "source": [
    "import seaborn as sn\n",
    "%matplotlib inline"
   ]
  },
  {
   "cell_type": "code",
   "execution_count": 22,
   "metadata": {
    "ExecuteTime": {
     "end_time": "2018-02-13T17:46:02.458031Z",
     "start_time": "2018-02-13T17:46:02.452375Z"
    },
    "collapsed": true
   },
   "outputs": [],
   "source": [
    "uswest = ['AK','AZ','CA', 'CO', 'HI', 'ID', 'MT', 'NV', 'NM', 'OR', 'UT', 'WA', 'WY']"
   ]
  },
  {
   "cell_type": "code",
   "execution_count": 17,
   "metadata": {},
   "outputs": [
    {
     "data": {
      "text/html": [
       "<div>\n",
       "<style>\n",
       "    .dataframe thead tr:only-child th {\n",
       "        text-align: right;\n",
       "    }\n",
       "\n",
       "    .dataframe thead th {\n",
       "        text-align: left;\n",
       "    }\n",
       "\n",
       "    .dataframe tbody tr th {\n",
       "        vertical-align: top;\n",
       "    }\n",
       "</style>\n",
       "<table border=\"1\" class=\"dataframe\">\n",
       "  <thead>\n",
       "    <tr style=\"text-align: right;\">\n",
       "      <th></th>\n",
       "      <th>UNITID</th>\n",
       "      <th>INSTNM</th>\n",
       "      <th>ZIP</th>\n",
       "      <th>STABBR</th>\n",
       "      <th>ENRLT</th>\n",
       "      <th>ENRLM</th>\n",
       "      <th>ENRLW</th>\n",
       "      <th>ADMSSNW</th>\n",
       "      <th>ADMSSNM</th>\n",
       "    </tr>\n",
       "  </thead>\n",
       "  <tbody>\n",
       "    <tr>\n",
       "      <th>0</th>\n",
       "      <td>100654</td>\n",
       "      <td>Alabama A &amp; M University</td>\n",
       "      <td>35762</td>\n",
       "      <td>AL</td>\n",
       "      <td>1568.0</td>\n",
       "      <td>652.0</td>\n",
       "      <td>916.0</td>\n",
       "      <td>3878.0</td>\n",
       "      <td>2276.0</td>\n",
       "    </tr>\n",
       "    <tr>\n",
       "      <th>1</th>\n",
       "      <td>100663</td>\n",
       "      <td>University of Alabama at Birmingham</td>\n",
       "      <td>35294-0110</td>\n",
       "      <td>AL</td>\n",
       "      <td>2021.0</td>\n",
       "      <td>758.0</td>\n",
       "      <td>1263.0</td>\n",
       "      <td>3437.0</td>\n",
       "      <td>2062.0</td>\n",
       "    </tr>\n",
       "    <tr>\n",
       "      <th>2</th>\n",
       "      <td>100690</td>\n",
       "      <td>Amridge University</td>\n",
       "      <td>36117-3553</td>\n",
       "      <td>AL</td>\n",
       "      <td>NaN</td>\n",
       "      <td>NaN</td>\n",
       "      <td>NaN</td>\n",
       "      <td>NaN</td>\n",
       "      <td>NaN</td>\n",
       "    </tr>\n",
       "    <tr>\n",
       "      <th>3</th>\n",
       "      <td>100706</td>\n",
       "      <td>University of Alabama in Huntsville</td>\n",
       "      <td>35899</td>\n",
       "      <td>AL</td>\n",
       "      <td>1213.0</td>\n",
       "      <td>735.0</td>\n",
       "      <td>478.0</td>\n",
       "      <td>1537.0</td>\n",
       "      <td>1930.0</td>\n",
       "    </tr>\n",
       "    <tr>\n",
       "      <th>4</th>\n",
       "      <td>100724</td>\n",
       "      <td>Alabama State University</td>\n",
       "      <td>36104-0271</td>\n",
       "      <td>AL</td>\n",
       "      <td>1172.0</td>\n",
       "      <td>434.0</td>\n",
       "      <td>738.0</td>\n",
       "      <td>2862.0</td>\n",
       "      <td>1293.0</td>\n",
       "    </tr>\n",
       "  </tbody>\n",
       "</table>\n",
       "</div>"
      ],
      "text/plain": [
       "   UNITID                               INSTNM         ZIP STABBR   ENRLT  \\\n",
       "0  100654             Alabama A & M University       35762     AL  1568.0   \n",
       "1  100663  University of Alabama at Birmingham  35294-0110     AL  2021.0   \n",
       "2  100690                   Amridge University  36117-3553     AL     NaN   \n",
       "3  100706  University of Alabama in Huntsville       35899     AL  1213.0   \n",
       "4  100724             Alabama State University  36104-0271     AL  1172.0   \n",
       "\n",
       "   ENRLM   ENRLW  ADMSSNW  ADMSSNM  \n",
       "0  652.0   916.0   3878.0   2276.0  \n",
       "1  758.0  1263.0   3437.0   2062.0  \n",
       "2    NaN     NaN      NaN      NaN  \n",
       "3  735.0   478.0   1537.0   1930.0  \n",
       "4  434.0   738.0   2862.0   1293.0  "
      ]
     },
     "execution_count": 17,
     "metadata": {},
     "output_type": "execute_result"
    }
   ],
   "source": [
    "c.head(5)"
   ]
  },
  {
   "cell_type": "code",
   "execution_count": 185,
   "metadata": {},
   "outputs": [
    {
     "data": {
      "text/html": [
       "<div>\n",
       "<style>\n",
       "    .dataframe thead tr:only-child th {\n",
       "        text-align: right;\n",
       "    }\n",
       "\n",
       "    .dataframe thead th {\n",
       "        text-align: left;\n",
       "    }\n",
       "\n",
       "    .dataframe tbody tr th {\n",
       "        vertical-align: top;\n",
       "    }\n",
       "</style>\n",
       "<table border=\"1\" class=\"dataframe\">\n",
       "  <thead>\n",
       "    <tr style=\"text-align: right;\">\n",
       "      <th></th>\n",
       "      <th>STABBR</th>\n",
       "      <th>INSTNM</th>\n",
       "      <th>ENRLT</th>\n",
       "    </tr>\n",
       "  </thead>\n",
       "  <tbody>\n",
       "    <tr>\n",
       "      <th>0</th>\n",
       "      <td>AZ</td>\n",
       "      <td>Arizona State University-Tempe</td>\n",
       "      <td>8230.0</td>\n",
       "    </tr>\n",
       "    <tr>\n",
       "      <th>1</th>\n",
       "      <td>AZ</td>\n",
       "      <td>University of Arizona</td>\n",
       "      <td>7753.0</td>\n",
       "    </tr>\n",
       "    <tr>\n",
       "      <th>2</th>\n",
       "      <td>CA</td>\n",
       "      <td>University of California-Irvine</td>\n",
       "      <td>6551.0</td>\n",
       "    </tr>\n",
       "    <tr>\n",
       "      <th>3</th>\n",
       "      <td>CA</td>\n",
       "      <td>University of California-Los Angeles</td>\n",
       "      <td>6545.0</td>\n",
       "    </tr>\n",
       "    <tr>\n",
       "      <th>4</th>\n",
       "      <td>WA</td>\n",
       "      <td>University of Washington-Seattle Campus</td>\n",
       "      <td>6475.0</td>\n",
       "    </tr>\n",
       "  </tbody>\n",
       "</table>\n",
       "</div>"
      ],
      "text/plain": [
       "  STABBR                                   INSTNM   ENRLT\n",
       "0     AZ           Arizona State University-Tempe  8230.0\n",
       "1     AZ                    University of Arizona  7753.0\n",
       "2     CA          University of California-Irvine  6551.0\n",
       "3     CA     University of California-Los Angeles  6545.0\n",
       "4     WA  University of Washington-Seattle Campus  6475.0"
      ]
     },
     "execution_count": 185,
     "metadata": {},
     "output_type": "execute_result"
    }
   ],
   "source": [
    "df_west = c[c['STABBR'].isin(uswest)].sort_values('INSTNM')\n",
    "df_grp = df_west.groupby(['STABBR','INSTNM'])['ENRLT'].mean().sort_values(ascending = False).to_frame().reset_index()\n",
    "df_grp.head()\n"
   ]
  },
  {
   "cell_type": "code",
   "execution_count": 240,
   "metadata": {},
   "outputs": [
    {
     "data": {
      "image/png": "[encoded data removed]",
      "text/plain": [
       "<matplotlib.figure.Figure at 0x271da195780>"
      ]
     },
     "metadata": {},
     "output_type": "display_data"
    }
   ],
   "source": [
    "fig1 = sn.boxplot(x=\"STABBR\", y=\"ENRLT\", data=df_grp);\n",
    "fig1.set(xlabel='State', ylabel='Enrollment');"
   ]
  },
  {
   "cell_type": "markdown",
   "metadata": {},
   "source": [
    "Bringing two columns in one by using melt function and then grouping data by State,Institution Name and Women/Men Admission Factor."
   ]
  },
  {
   "cell_type": "code",
   "execution_count": 237,
   "metadata": {},
   "outputs": [
    {
     "data": {
      "text/html": [
       "<div>\n",
       "<style>\n",
       "    .dataframe thead tr:only-child th {\n",
       "        text-align: right;\n",
       "    }\n",
       "\n",
       "    .dataframe thead th {\n",
       "        text-align: left;\n",
       "    }\n",
       "\n",
       "    .dataframe tbody tr th {\n",
       "        vertical-align: top;\n",
       "    }\n",
       "</style>\n",
       "<table border=\"1\" class=\"dataframe\">\n",
       "  <thead>\n",
       "    <tr style=\"text-align: right;\">\n",
       "      <th></th>\n",
       "      <th>STABBR</th>\n",
       "      <th>INSTNM</th>\n",
       "      <th>variable</th>\n",
       "      <th>value</th>\n",
       "    </tr>\n",
       "  </thead>\n",
       "  <tbody>\n",
       "    <tr>\n",
       "      <th>0</th>\n",
       "      <td>AK</td>\n",
       "      <td>AVTEC-Alaska's Institute of Technology</td>\n",
       "      <td>ENRLM</td>\n",
       "      <td>NaN</td>\n",
       "    </tr>\n",
       "    <tr>\n",
       "      <th>1</th>\n",
       "      <td>AK</td>\n",
       "      <td>AVTEC-Alaska's Institute of Technology</td>\n",
       "      <td>ENRLW</td>\n",
       "      <td>NaN</td>\n",
       "    </tr>\n",
       "    <tr>\n",
       "      <th>2</th>\n",
       "      <td>AK</td>\n",
       "      <td>Alaska Bible College</td>\n",
       "      <td>ENRLM</td>\n",
       "      <td>NaN</td>\n",
       "    </tr>\n",
       "    <tr>\n",
       "      <th>3</th>\n",
       "      <td>AK</td>\n",
       "      <td>Alaska Bible College</td>\n",
       "      <td>ENRLW</td>\n",
       "      <td>NaN</td>\n",
       "    </tr>\n",
       "    <tr>\n",
       "      <th>4</th>\n",
       "      <td>AK</td>\n",
       "      <td>Alaska Career College</td>\n",
       "      <td>ENRLM</td>\n",
       "      <td>NaN</td>\n",
       "    </tr>\n",
       "  </tbody>\n",
       "</table>\n",
       "</div>"
      ],
      "text/plain": [
       "  STABBR                                  INSTNM variable  value\n",
       "0     AK  AVTEC-Alaska's Institute of Technology    ENRLM    NaN\n",
       "1     AK  AVTEC-Alaska's Institute of Technology    ENRLW    NaN\n",
       "2     AK                    Alaska Bible College    ENRLM    NaN\n",
       "3     AK                    Alaska Bible College    ENRLW    NaN\n",
       "4     AK                   Alaska Career College    ENRLM    NaN"
      ]
     },
     "execution_count": 237,
     "metadata": {},
     "output_type": "execute_result"
    }
   ],
   "source": [
    "df_melt = pd.melt(df_west,id_vars = (['INSTNM','STABBR']),value_vars = ['ENRLW','ENRLM'])\n",
    "df = df_melt.groupby(['STABBR','INSTNM','variable'])['value'].mean().to_frame().reset_index()\n",
    "df.head()"
   ]
  },
  {
   "cell_type": "code",
   "execution_count": 239,
   "metadata": {},
   "outputs": [
    {
     "data": {
      "image/png": "[encoded data removed]",
      "text/plain": [
       "<matplotlib.figure.Figure at 0x271da1fa358>"
      ]
     },
     "metadata": {},
     "output_type": "display_data"
    }
   ],
   "source": [
    "import matplotlib.pyplot as plt\n",
    "fig, ax = plt.subplots()\n",
    "fig.set_size_inches(11.7, 8.27)\n",
    "fig2 = sn.boxplot(x=\"STABBR\", y=\"value\", hue=\"variable\", data=df);\n",
    "fig2.set(xlabel='State', ylabel='Enrollments');"
   ]
  },
  {
   "cell_type": "markdown",
   "metadata": {},
   "source": [
    "Calculating the ratio of ADMSSNW/ADMSSNM:"
   ]
  },
  {
   "cell_type": "code",
   "execution_count": 184,
   "metadata": {},
   "outputs": [
    {
     "data": {
      "text/html": [
       "<div>\n",
       "<style>\n",
       "    .dataframe thead tr:only-child th {\n",
       "        text-align: right;\n",
       "    }\n",
       "\n",
       "    .dataframe thead th {\n",
       "        text-align: left;\n",
       "    }\n",
       "\n",
       "    .dataframe tbody tr th {\n",
       "        vertical-align: top;\n",
       "    }\n",
       "</style>\n",
       "<table border=\"1\" class=\"dataframe\">\n",
       "  <thead>\n",
       "    <tr style=\"text-align: right;\">\n",
       "      <th></th>\n",
       "      <th>UNITID</th>\n",
       "      <th>INSTNM</th>\n",
       "      <th>ZIP</th>\n",
       "      <th>STABBR</th>\n",
       "      <th>ENRLT</th>\n",
       "      <th>ENRLM</th>\n",
       "      <th>ENRLW</th>\n",
       "      <th>ADMSSNW</th>\n",
       "      <th>ADMSSNM</th>\n",
       "      <th>Ratio</th>\n",
       "    </tr>\n",
       "  </thead>\n",
       "  <tbody>\n",
       "    <tr>\n",
       "      <th>0</th>\n",
       "      <td>100654</td>\n",
       "      <td>Alabama A &amp; M University</td>\n",
       "      <td>35762</td>\n",
       "      <td>AL</td>\n",
       "      <td>1568.0</td>\n",
       "      <td>652.0</td>\n",
       "      <td>916.0</td>\n",
       "      <td>3878.0</td>\n",
       "      <td>2276.0</td>\n",
       "      <td>1.703866</td>\n",
       "    </tr>\n",
       "    <tr>\n",
       "      <th>1</th>\n",
       "      <td>100663</td>\n",
       "      <td>University of Alabama at Birmingham</td>\n",
       "      <td>35294-0110</td>\n",
       "      <td>AL</td>\n",
       "      <td>2021.0</td>\n",
       "      <td>758.0</td>\n",
       "      <td>1263.0</td>\n",
       "      <td>3437.0</td>\n",
       "      <td>2062.0</td>\n",
       "      <td>1.666828</td>\n",
       "    </tr>\n",
       "    <tr>\n",
       "      <th>2</th>\n",
       "      <td>100690</td>\n",
       "      <td>Amridge University</td>\n",
       "      <td>36117-3553</td>\n",
       "      <td>AL</td>\n",
       "      <td>NaN</td>\n",
       "      <td>NaN</td>\n",
       "      <td>NaN</td>\n",
       "      <td>NaN</td>\n",
       "      <td>NaN</td>\n",
       "      <td>NaN</td>\n",
       "    </tr>\n",
       "    <tr>\n",
       "      <th>3</th>\n",
       "      <td>100706</td>\n",
       "      <td>University of Alabama in Huntsville</td>\n",
       "      <td>35899</td>\n",
       "      <td>AL</td>\n",
       "      <td>1213.0</td>\n",
       "      <td>735.0</td>\n",
       "      <td>478.0</td>\n",
       "      <td>1537.0</td>\n",
       "      <td>1930.0</td>\n",
       "      <td>0.796373</td>\n",
       "    </tr>\n",
       "    <tr>\n",
       "      <th>4</th>\n",
       "      <td>100724</td>\n",
       "      <td>Alabama State University</td>\n",
       "      <td>36104-0271</td>\n",
       "      <td>AL</td>\n",
       "      <td>1172.0</td>\n",
       "      <td>434.0</td>\n",
       "      <td>738.0</td>\n",
       "      <td>2862.0</td>\n",
       "      <td>1293.0</td>\n",
       "      <td>2.213457</td>\n",
       "    </tr>\n",
       "  </tbody>\n",
       "</table>\n",
       "</div>"
      ],
      "text/plain": [
       "   UNITID                               INSTNM         ZIP STABBR   ENRLT  \\\n",
       "0  100654             Alabama A & M University       35762     AL  1568.0   \n",
       "1  100663  University of Alabama at Birmingham  35294-0110     AL  2021.0   \n",
       "2  100690                   Amridge University  36117-3553     AL     NaN   \n",
       "3  100706  University of Alabama in Huntsville       35899     AL  1213.0   \n",
       "4  100724             Alabama State University  36104-0271     AL  1172.0   \n",
       "\n",
       "   ENRLM   ENRLW  ADMSSNW  ADMSSNM     Ratio  \n",
       "0  652.0   916.0   3878.0   2276.0  1.703866  \n",
       "1  758.0  1263.0   3437.0   2062.0  1.666828  \n",
       "2    NaN     NaN      NaN      NaN       NaN  \n",
       "3  735.0   478.0   1537.0   1930.0  0.796373  \n",
       "4  434.0   738.0   2862.0   1293.0  2.213457  "
      ]
     },
     "execution_count": 184,
     "metadata": {},
     "output_type": "execute_result"
    }
   ],
   "source": [
    "c['Ratio'] = c['ADMSSNW']/c['ADMSSNM']\n",
    "c.head()"
   ]
  },
  {
   "cell_type": "markdown",
   "metadata": {},
   "source": [
    "Filtering the data based on ZIP Codes;Since we have to basically focus on institutions with more than 1000 enrollments;we can drop the data with NaN values in Enrollment and Admissions column"
   ]
  },
  {
   "cell_type": "code",
   "execution_count": 205,
   "metadata": {},
   "outputs": [
    {
     "data": {
      "text/html": [
       "<div>\n",
       "<style>\n",
       "    .dataframe thead tr:only-child th {\n",
       "        text-align: right;\n",
       "    }\n",
       "\n",
       "    .dataframe thead th {\n",
       "        text-align: left;\n",
       "    }\n",
       "\n",
       "    .dataframe tbody tr th {\n",
       "        vertical-align: top;\n",
       "    }\n",
       "</style>\n",
       "<table border=\"1\" class=\"dataframe\">\n",
       "  <thead>\n",
       "    <tr style=\"text-align: right;\">\n",
       "      <th></th>\n",
       "      <th>UNITID</th>\n",
       "      <th>INSTNM</th>\n",
       "      <th>ZIP</th>\n",
       "      <th>STABBR</th>\n",
       "      <th>ENRLT</th>\n",
       "      <th>ENRLM</th>\n",
       "      <th>ENRLW</th>\n",
       "      <th>ADMSSNW</th>\n",
       "      <th>ADMSSNM</th>\n",
       "      <th>Ratio</th>\n",
       "    </tr>\n",
       "  </thead>\n",
       "  <tbody>\n",
       "    <tr>\n",
       "      <th>226</th>\n",
       "      <td>110370</td>\n",
       "      <td>California College of the Arts</td>\n",
       "      <td>94107-2247</td>\n",
       "      <td>CA</td>\n",
       "      <td>255.0</td>\n",
       "      <td>84.0</td>\n",
       "      <td>171.0</td>\n",
       "      <td>1112.0</td>\n",
       "      <td>419.0</td>\n",
       "      <td>2.653938</td>\n",
       "    </tr>\n",
       "    <tr>\n",
       "      <th>241</th>\n",
       "      <td>110574</td>\n",
       "      <td>California State University-East Bay</td>\n",
       "      <td>94542</td>\n",
       "      <td>CA</td>\n",
       "      <td>1596.0</td>\n",
       "      <td>588.0</td>\n",
       "      <td>1008.0</td>\n",
       "      <td>7039.0</td>\n",
       "      <td>3891.0</td>\n",
       "      <td>1.809047</td>\n",
       "    </tr>\n",
       "    <tr>\n",
       "      <th>246</th>\n",
       "      <td>110635</td>\n",
       "      <td>University of California-Berkeley</td>\n",
       "      <td>94720</td>\n",
       "      <td>CA</td>\n",
       "      <td>6182.0</td>\n",
       "      <td>2997.0</td>\n",
       "      <td>3185.0</td>\n",
       "      <td>7766.0</td>\n",
       "      <td>6209.0</td>\n",
       "      <td>1.250765</td>\n",
       "    </tr>\n",
       "    <tr>\n",
       "      <th>254</th>\n",
       "      <td>110714</td>\n",
       "      <td>University of California-Santa Cruz</td>\n",
       "      <td>95064-1011</td>\n",
       "      <td>CA</td>\n",
       "      <td>4221.0</td>\n",
       "      <td>2149.0</td>\n",
       "      <td>2072.0</td>\n",
       "      <td>15883.0</td>\n",
       "      <td>12569.0</td>\n",
       "      <td>1.263665</td>\n",
       "    </tr>\n",
       "    <tr>\n",
       "      <th>261</th>\n",
       "      <td>111188</td>\n",
       "      <td>California State University Maritime Academy</td>\n",
       "      <td>94590</td>\n",
       "      <td>CA</td>\n",
       "      <td>241.0</td>\n",
       "      <td>206.0</td>\n",
       "      <td>35.0</td>\n",
       "      <td>184.0</td>\n",
       "      <td>646.0</td>\n",
       "      <td>0.284830</td>\n",
       "    </tr>\n",
       "  </tbody>\n",
       "</table>\n",
       "</div>"
      ],
      "text/plain": [
       "     UNITID                                        INSTNM         ZIP STABBR  \\\n",
       "226  110370                California College of the Arts  94107-2247     CA   \n",
       "241  110574          California State University-East Bay       94542     CA   \n",
       "246  110635             University of California-Berkeley       94720     CA   \n",
       "254  110714           University of California-Santa Cruz  95064-1011     CA   \n",
       "261  111188  California State University Maritime Academy       94590     CA   \n",
       "\n",
       "      ENRLT   ENRLM   ENRLW  ADMSSNW  ADMSSNM     Ratio  \n",
       "226   255.0    84.0   171.0   1112.0    419.0  2.653938  \n",
       "241  1596.0   588.0  1008.0   7039.0   3891.0  1.809047  \n",
       "246  6182.0  2997.0  3185.0   7766.0   6209.0  1.250765  \n",
       "254  4221.0  2149.0  2072.0  15883.0  12569.0  1.263665  \n",
       "261   241.0   206.0    35.0    184.0    646.0  0.284830  "
      ]
     },
     "execution_count": 205,
     "metadata": {},
     "output_type": "execute_result"
    }
   ],
   "source": [
    "bay_data = c[c['ZIP'].str.startswith('950')|c['ZIP'].str.startswith('94')]\n",
    "bay_data.dropna().head()"
   ]
  },
  {
   "cell_type": "code",
   "execution_count": 209,
   "metadata": {},
   "outputs": [
    {
     "data": {
      "text/html": [
       "<div>\n",
       "<style>\n",
       "    .dataframe thead tr:only-child th {\n",
       "        text-align: right;\n",
       "    }\n",
       "\n",
       "    .dataframe thead th {\n",
       "        text-align: left;\n",
       "    }\n",
       "\n",
       "    .dataframe tbody tr th {\n",
       "        vertical-align: top;\n",
       "    }\n",
       "</style>\n",
       "<table border=\"1\" class=\"dataframe\">\n",
       "  <thead>\n",
       "    <tr style=\"text-align: right;\">\n",
       "      <th></th>\n",
       "      <th>UNITID</th>\n",
       "      <th>INSTNM</th>\n",
       "      <th>ZIP</th>\n",
       "      <th>STABBR</th>\n",
       "      <th>ENRLT</th>\n",
       "      <th>ENRLM</th>\n",
       "      <th>ENRLW</th>\n",
       "      <th>ADMSSNW</th>\n",
       "      <th>ADMSSNM</th>\n",
       "      <th>Ratio</th>\n",
       "    </tr>\n",
       "  </thead>\n",
       "  <tbody>\n",
       "    <tr>\n",
       "      <th>4247</th>\n",
       "      <td>243744</td>\n",
       "      <td>Stanford University</td>\n",
       "      <td>94305</td>\n",
       "      <td>CA</td>\n",
       "      <td>1739.0</td>\n",
       "      <td>854.0</td>\n",
       "      <td>885.0</td>\n",
       "      <td>1087.0</td>\n",
       "      <td>1031.0</td>\n",
       "      <td>1.054316</td>\n",
       "    </tr>\n",
       "    <tr>\n",
       "      <th>246</th>\n",
       "      <td>110635</td>\n",
       "      <td>University of California-Berkeley</td>\n",
       "      <td>94720</td>\n",
       "      <td>CA</td>\n",
       "      <td>6182.0</td>\n",
       "      <td>2997.0</td>\n",
       "      <td>3185.0</td>\n",
       "      <td>7766.0</td>\n",
       "      <td>6209.0</td>\n",
       "      <td>1.250765</td>\n",
       "    </tr>\n",
       "    <tr>\n",
       "      <th>254</th>\n",
       "      <td>110714</td>\n",
       "      <td>University of California-Santa Cruz</td>\n",
       "      <td>95064-1011</td>\n",
       "      <td>CA</td>\n",
       "      <td>4221.0</td>\n",
       "      <td>2149.0</td>\n",
       "      <td>2072.0</td>\n",
       "      <td>15883.0</td>\n",
       "      <td>12569.0</td>\n",
       "      <td>1.263665</td>\n",
       "    </tr>\n",
       "    <tr>\n",
       "      <th>505</th>\n",
       "      <td>122931</td>\n",
       "      <td>Santa Clara University</td>\n",
       "      <td>95053</td>\n",
       "      <td>CA</td>\n",
       "      <td>1317.0</td>\n",
       "      <td>650.0</td>\n",
       "      <td>667.0</td>\n",
       "      <td>4271.0</td>\n",
       "      <td>3377.0</td>\n",
       "      <td>1.264732</td>\n",
       "    </tr>\n",
       "    <tr>\n",
       "      <th>490</th>\n",
       "      <td>122597</td>\n",
       "      <td>San Francisco State University</td>\n",
       "      <td>94132</td>\n",
       "      <td>CA</td>\n",
       "      <td>3642.0</td>\n",
       "      <td>1483.0</td>\n",
       "      <td>2159.0</td>\n",
       "      <td>15688.0</td>\n",
       "      <td>9016.0</td>\n",
       "      <td>1.740018</td>\n",
       "    </tr>\n",
       "  </tbody>\n",
       "</table>\n",
       "</div>"
      ],
      "text/plain": [
       "      UNITID                               INSTNM         ZIP STABBR   ENRLT  \\\n",
       "4247  243744                  Stanford University       94305     CA  1739.0   \n",
       "246   110635    University of California-Berkeley       94720     CA  6182.0   \n",
       "254   110714  University of California-Santa Cruz  95064-1011     CA  4221.0   \n",
       "505   122931               Santa Clara University       95053     CA  1317.0   \n",
       "490   122597       San Francisco State University       94132     CA  3642.0   \n",
       "\n",
       "       ENRLM   ENRLW  ADMSSNW  ADMSSNM     Ratio  \n",
       "4247   854.0   885.0   1087.0   1031.0  1.054316  \n",
       "246   2997.0  3185.0   7766.0   6209.0  1.250765  \n",
       "254   2149.0  2072.0  15883.0  12569.0  1.263665  \n",
       "505    650.0   667.0   4271.0   3377.0  1.264732  \n",
       "490   1483.0  2159.0  15688.0   9016.0  1.740018  "
      ]
     },
     "execution_count": 209,
     "metadata": {},
     "output_type": "execute_result"
    }
   ],
   "source": [
    "filtered_data = bay_data[bay_data['ENRLT']>1000.0].sort_values(by = 'Ratio')\n",
    "filtered_data.head()"
   ]
  },
  {
   "cell_type": "markdown",
   "metadata": {},
   "source": [
    "Plotting a Barplot"
   ]
  },
  {
   "cell_type": "code",
   "execution_count": 236,
   "metadata": {},
   "outputs": [
    {
     "data": {
      "image/png": "[encoded data removed]",
      "text/plain": [
       "<matplotlib.figure.Figure at 0x271d9f11588>"
      ]
     },
     "metadata": {},
     "output_type": "display_data"
    }
   ],
   "source": [
    "from numpy import mean\n",
    "fig, ax = plt.subplots()\n",
    "fig.set_size_inches(11.7, 8.27)\n",
    "ax = sn.barplot(x=\"INSTNM\", y=\"Ratio\", data=filtered_data,estimator=mean);\n",
    "ax.set_xticklabels(ax.get_xticklabels(), rotation=40, ha=\"right\");\n",
    "ax.set(xlabel='Institution Name', ylabel='Ratio');"
   ]
  },
  {
   "cell_type": "markdown",
   "metadata": {},
   "source": [
    "Plot 3 clearly indicates that more women are admitted than men in University of San francisco than Stanford University\n",
    "Plot 2 clearly indicates that Utah has the highest Enrollment Rate and Women Enrollments are more than Men Enrollments there.\n",
    "PLot 1 clearly indicates that Utah has highest Enrollments with no outliers whereas AZ has few outliers.s"
   ]
  }
 ],
 "metadata": {
  "kernelspec": {
   "display_name": "Python 3",
   "language": "python",
   "name": "python3"
  },
  "language_info": {
   "codemirror_mode": {
    "name": "ipython",
    "version": 3
   },
   "file_extension": ".py",
   "mimetype": "text/x-python",
   "name": "python",
   "nbconvert_exporter": "python",
   "pygments_lexer": "ipython3",
   "version": "3.6.3"
  },
  "toc": {
   "nav_menu": {},
   "number_sections": true,
   "sideBar": true,
   "skip_h1_title": false,
   "title_cell": "Table of Contents",
   "title_sidebar": "Contents",
   "toc_cell": false,
   "toc_position": {},
   "toc_section_display": "block",
   "toc_window_display": false
  },
  "varInspector": {
   "cols": {
    "lenName": 16,
    "lenType": 16,
    "lenVar": 40
   },
   "kernels_config": {
    "python": {
     "delete_cmd_postfix": "",
     "delete_cmd_prefix": "del ",
     "library": "var_list.py",
     "varRefreshCmd": "print(var_dic_list())"
    },
    "r": {
     "delete_cmd_postfix": ") ",
     "delete_cmd_prefix": "rm(",
     "library": "var_list.r",
     "varRefreshCmd": "cat(var_dic_list()) "
    }
   },
   "types_to_exclude": [
    "module",
    "function",
    "builtin_function_or_method",
    "instance",
    "_Feature"
   ],
   "window_display": false
  }
 },
 "nbformat": 4,
 "nbformat_minor": 2
}
